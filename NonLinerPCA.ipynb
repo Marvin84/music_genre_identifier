{
 "cells": [
  {
   "cell_type": "code",
   "execution_count": 2,
   "metadata": {
    "collapsed": false
   },
   "outputs": [],
   "source": [
    "import tensorflow as tf\n",
    "import keras.backend as K\n",
    "from sklearn.preprocessing import StandardScaler, MinMaxScaler\n",
    "#from Project.utilities import *\n",
    "#from Project.dataStructures import *\n",
    "from keras.models import Sequential\n",
    "from keras.layers import PReLU, Dense, Activation,BatchNormalization,Dropout\n",
    "import numpy as np"
   ]
  },
  {
   "cell_type": "code",
   "execution_count": 3,
   "metadata": {
    "collapsed": false
   },
   "outputs": [],
   "source": [
    "K.set_learning_phase(0)\n",
    "rdm = np.random.RandomState()\n",
    "rdm.seed(42)\n"
   ]
  },
  {
   "cell_type": "code",
   "execution_count": 4,
   "metadata": {
    "collapsed": false
   },
   "outputs": [],
   "source": [
    "import pandas as pd\n",
    "data = pd.read_csv('/Users/laneskij/Documents/University/Tesi/Project/datasetpca.csv')\n",
    "dataset = np.array(data)\n",
    "rdm.shuffle(dataset)\n"
   ]
  },
  {
   "cell_type": "code",
   "execution_count": 7,
   "metadata": {
    "collapsed": false
   },
   "outputs": [],
   "source": [
    "X =dataset[:,:-1].astype(np.float32)\n",
    "Y = dataset[:,-1]\n",
    "label_dic = {target:value for value, target in enumerate(sorted(set(Y.tolist())))}\n",
    "Y = [label_dic[y] for y in Y]"
   ]
  },
  {
   "cell_type": "code",
   "execution_count": 3,
   "metadata": {
    "collapsed": false
   },
   "outputs": [],
   "source": [
    "datasetList, attributes, coloumns = read_file('/dataset.csv')\n",
    "targetsDic, targets = get_classes(coloumns['class'])\n",
    "dataset = string_to_float(switch_label(datasetList, targets))\n",
    "rdm.shuffle(dataset)\n",
    "labels = []\n",
    "for item in dataset:\n",
    "    labels.append(item[-1])  \n",
    "stringLabels = [targets[item-1] for item in labels]\n"
   ]
  },
  {
   "cell_type": "code",
   "execution_count": 14,
   "metadata": {
    "collapsed": false
   },
   "outputs": [],
   "source": [
    "#X = np.array(dataset)[:,:len(dataset[0])-1].astype(np.float64)\n",
    "#Y = np.array(dataset)[:,len(dataset[0])-1].astype(np.int64)\n",
    "#Y = np.array([item-1 for item in Y])\n",
    "xTrain, xTest = X[:800], X[800:]\n",
    "yTrain, yTest = Y[:800], Y[800:]"
   ]
  },
  {
   "cell_type": "code",
   "execution_count": 54,
   "metadata": {
    "collapsed": false
   },
   "outputs": [],
   "source": [
    "scaler = MinMaxScaler(feature_range=(0,1))\n",
    "X = scaler.fit_transform(X)\n",
    "xTrain = scaler.fit_transform(xTrain)\n",
    "xTest = scaler.transform(xTest)\n",
    "\n"
   ]
  },
  {
   "cell_type": "code",
   "execution_count": 55,
   "metadata": {
    "collapsed": false
   },
   "outputs": [
    {
     "name": "stdout",
     "output_type": "stream",
     "text": [
      "276\n"
     ]
    }
   ],
   "source": [
    "print len(xTrain[0])"
   ]
  },
  {
   "cell_type": "code",
   "execution_count": 6,
   "metadata": {
    "collapsed": false,
    "scrolled": true
   },
   "outputs": [],
   "source": [
    "xTrain, xTest = X[:int(1000*0.8)], X[int(1000*0.8):]\n",
    "yTrain, yTest = Y[:int(1000*0.8)], Y[int(1000*0.8):]\n"
   ]
  },
  {
   "cell_type": "code",
   "execution_count": 16,
   "metadata": {
    "collapsed": false
   },
   "outputs": [],
   "source": [
    "layers = [\n",
    "    Dense(50, input_dim=len(xTrain[0]),init='he_normal'), PReLU(), Dropout(0.2),BatchNormalization(), \n",
    "    Dense(10, init='he_uniform'), Activation('softmax')\n",
    "]"
   ]
  },
  {
   "cell_type": "code",
   "execution_count": 17,
   "metadata": {
    "collapsed": false
   },
   "outputs": [],
   "source": [
    "model = Sequential()\n",
    "for layer in layers:\n",
    "    model.add(layer)\n"
   ]
  },
  {
   "cell_type": "code",
   "execution_count": 18,
   "metadata": {
    "collapsed": true
   },
   "outputs": [],
   "source": [
    "model.compile(loss='sparse_categorical_crossentropy', optimizer='adadelta')"
   ]
  },
  {
   "cell_type": "code",
   "execution_count": 47,
   "metadata": {
    "collapsed": false
   },
   "outputs": [
    {
     "ename": "NameError",
     "evalue": "name 'get_minibatches' is not defined",
     "output_type": "error",
     "traceback": [
      "\u001b[0;31m---------------------------------------------------------------------------\u001b[0m",
      "\u001b[0;31mNameError\u001b[0m                                 Traceback (most recent call last)",
      "\u001b[0;32m<ipython-input-47-384b095ddfa8>\u001b[0m in \u001b[0;36m<module>\u001b[0;34m()\u001b[0m\n\u001b[1;32m      2\u001b[0m \u001b[0;32mfor\u001b[0m \u001b[0me\u001b[0m \u001b[0;32min\u001b[0m \u001b[0mrange\u001b[0m\u001b[0;34m(\u001b[0m\u001b[0;36m100\u001b[0m\u001b[0;34m)\u001b[0m\u001b[0;34m:\u001b[0m\u001b[0;34m\u001b[0m\u001b[0m\n\u001b[1;32m      3\u001b[0m     \u001b[0mlosses\u001b[0m \u001b[0;34m=\u001b[0m \u001b[0;34m[\u001b[0m\u001b[0;34m]\u001b[0m\u001b[0;34m\u001b[0m\u001b[0m\n\u001b[0;32m----> 4\u001b[0;31m     \u001b[0;32mfor\u001b[0m \u001b[0mx_batch\u001b[0m\u001b[0;34m,\u001b[0m\u001b[0my_batch\u001b[0m \u001b[0;32min\u001b[0m \u001b[0mget_minibatches\u001b[0m\u001b[0;34m(\u001b[0m\u001b[0mxTrain\u001b[0m\u001b[0;34m,\u001b[0m\u001b[0myTrain\u001b[0m\u001b[0;34m)\u001b[0m\u001b[0;34m:\u001b[0m\u001b[0;34m\u001b[0m\u001b[0m\n\u001b[0m\u001b[1;32m      5\u001b[0m         \u001b[0mloss\u001b[0m \u001b[0;34m=\u001b[0m \u001b[0mmodel\u001b[0m\u001b[0;34m.\u001b[0m\u001b[0mtrain_on_batch\u001b[0m\u001b[0;34m(\u001b[0m\u001b[0mx_batch\u001b[0m\u001b[0;34m,\u001b[0m\u001b[0my_batch\u001b[0m\u001b[0;34m)\u001b[0m\u001b[0;34m\u001b[0m\u001b[0m\n\u001b[1;32m      6\u001b[0m         \u001b[0mlosses\u001b[0m\u001b[0;34m.\u001b[0m\u001b[0mappend\u001b[0m\u001b[0;34m(\u001b[0m\u001b[0mloss\u001b[0m\u001b[0;34m)\u001b[0m\u001b[0;34m\u001b[0m\u001b[0m\n",
      "\u001b[0;31mNameError\u001b[0m: name 'get_minibatches' is not defined"
     ]
    }
   ],
   "source": [
    "\n",
    "for e in range(100):\n",
    "    losses = []\n",
    "    for x_batch,y_batch in get_minibatches(xTrain,yTrain):\n",
    "        loss = model.train_on_batch(x_batch,y_batch)\n",
    "        losses.append(loss)\n",
    "    \n",
    "    train_acc = 0.\n",
    "    for x_batch,y_batch in get_minibatches(xTrain,yTrain):\n",
    "        train_acc += (np.argmax(model.predict(x_batch), axis=1) == y_batch[:,0]).sum()\n",
    "    test_acc = 0.\n",
    "    for x_batch,y_batch in get_minibatches(xTest,yTest):\n",
    "        test_acc += (np.argmax(model.predict(x_batch), axis=1) == y_batch[:,0]).sum()\n",
    "        \n",
    "    #print 'Loss: %.3f - Train Acc: %.3f - Test Acc: %.3f' % (np.mean(losses), 100.*train_acc/len(yTrain),100.*test_acc/len(yTest))"
   ]
  },
  {
   "cell_type": "code",
   "execution_count": 39,
   "metadata": {
    "collapsed": false
   },
   "outputs": [
    {
     "name": "stdout",
     "output_type": "stream",
     "text": [
      "Epoch 1/10\n",
      "800/800 [==============================] - 0s - loss: 0.0790     \n",
      "Epoch 2/10\n",
      "800/800 [==============================] - 0s - loss: 0.0800     \n",
      "Epoch 3/10\n",
      "800/800 [==============================] - 0s - loss: 0.0814     \n",
      "Epoch 4/10\n",
      "800/800 [==============================] - 0s - loss: 0.0845     \n",
      "Epoch 5/10\n",
      "800/800 [==============================] - 0s - loss: 0.0806     \n",
      "Epoch 6/10\n",
      "800/800 [==============================] - 0s - loss: 0.0732     \n",
      "Epoch 7/10\n",
      "800/800 [==============================] - 0s - loss: 0.0854     \n",
      "Epoch 8/10\n",
      "800/800 [==============================] - 0s - loss: 0.0771     \n",
      "Epoch 9/10\n",
      "800/800 [==============================] - 0s - loss: 0.0765     \n",
      "Epoch 10/10\n",
      "800/800 [==============================] - 0s - loss: 0.0754     \n"
     ]
    },
    {
     "data": {
      "text/plain": [
       "<keras.callbacks.History at 0x11daff450>"
      ]
     },
     "execution_count": 39,
     "metadata": {},
     "output_type": "execute_result"
    }
   ],
   "source": [
    "model.fit(xTrain,yTrain)"
   ]
  },
  {
   "cell_type": "code",
   "execution_count": 40,
   "metadata": {
    "collapsed": true
   },
   "outputs": [],
   "source": [
    "prediction = model.predict(xTest)"
   ]
  },
  {
   "cell_type": "code",
   "execution_count": 46,
   "metadata": {
    "collapsed": false
   },
   "outputs": [
    {
     "name": "stderr",
     "output_type": "stream",
     "text": [
      "/Users/laneskij/anaconda2/lib/python2.7/site-packages/ipykernel/__main__.py:1: DeprecationWarning: elementwise == comparison failed; this will raise an error in the future.\n",
      "  if __name__ == '__main__':\n"
     ]
    },
    {
     "ename": "AttributeError",
     "evalue": "'bool' object has no attribute 'sum'",
     "output_type": "error",
     "traceback": [
      "\u001b[0;31m---------------------------------------------------------------------------\u001b[0m",
      "\u001b[0;31mAttributeError\u001b[0m                            Traceback (most recent call last)",
      "\u001b[0;32m<ipython-input-46-c7c5743e82f4>\u001b[0m in \u001b[0;36m<module>\u001b[0;34m()\u001b[0m\n\u001b[0;32m----> 1\u001b[0;31m \u001b[0;32mprint\u001b[0m \u001b[0;34m(\u001b[0m\u001b[0mprediction\u001b[0m\u001b[0;34m==\u001b[0m\u001b[0myTest\u001b[0m\u001b[0;34m)\u001b[0m\u001b[0;34m.\u001b[0m\u001b[0msum\u001b[0m\u001b[0;34m(\u001b[0m\u001b[0;34m)\u001b[0m\u001b[0;34m\u001b[0m\u001b[0m\n\u001b[0m",
      "\u001b[0;31mAttributeError\u001b[0m: 'bool' object has no attribute 'sum'"
     ]
    }
   ],
   "source": []
  },
  {
   "cell_type": "code",
   "execution_count": 11,
   "metadata": {
    "collapsed": false
   },
   "outputs": [],
   "source": [
    "layers = [\n",
    "    Dense(50, input_dim=len(X[0]),init='he_normal'), PReLU(), Dropout(0.2), #BatchNormalization(), \n",
    "    Dense(20, init='he_normal'), PReLU(), Dropout(0.2),\n",
    "    Dense(50, init='he_normal'), PReLU(),\n",
    "    Dense(len(X[0]), 'he_uniform'),Activation('sigmoid')\n",
    "]"
   ]
  },
  {
   "cell_type": "code",
   "execution_count": 12,
   "metadata": {
    "collapsed": false
   },
   "outputs": [],
   "source": [
    "ae = Sequential()\n",
    "for layer in layers:\n",
    "    ae.add(layer)"
   ]
  },
  {
   "cell_type": "code",
   "execution_count": 13,
   "metadata": {
    "collapsed": false
   },
   "outputs": [],
   "source": [
    "ae.compile(loss='binary_crossentropy', optimizer='adadelta')"
   ]
  },
  {
   "cell_type": "code",
   "execution_count": 15,
   "metadata": {
    "collapsed": false
   },
   "outputs": [],
   "source": [
    "for e in range(100):\n",
    "    losses = []\n",
    "    for xBatch,yBatch in get_minibatches(X,Y):\n",
    "        loss = ae.train_on_batch(xBatch,xBatch)\n",
    "        losses.append(loss)\n",
    "    #print loss"
   ]
  },
  {
   "cell_type": "code",
   "execution_count": 48,
   "metadata": {
    "collapsed": false
   },
   "outputs": [
    {
     "name": "stdout",
     "output_type": "stream",
     "text": [
      "0\n"
     ]
    },
    {
     "name": "stderr",
     "output_type": "stream",
     "text": [
      "/Users/laneskij/anaconda2/lib/python2.7/site-packages/ipykernel/__main__.py:1: DeprecationWarning: elementwise == comparison failed; this will raise an error in the future.\n",
      "  if __name__ == '__main__':\n"
     ]
    }
   ],
   "source": [
    "print np.argmax(model.predict(xTest) == yTest).sum()"
   ]
  },
  {
   "cell_type": "code",
   "execution_count": 17,
   "metadata": {
    "collapsed": false
   },
   "outputs": [],
   "source": [
    "embedding = K.function([ae.layers[0].input, 0], [ae.layers[3].output])"
   ]
  },
  {
   "cell_type": "code",
   "execution_count": 18,
   "metadata": {
    "collapsed": false
   },
   "outputs": [],
   "source": [
    "newX = []\n",
    "stringLabels = [targets[item-1] for item in labels]\n",
    "outputX = embedding([X])[0]\n",
    "for item in outputX:\n",
    "    newX.append(item)\n",
    "dataset = np.c_[np.array(newX), np.array(stringLabels)].tolist() \n",
    "\n",
    "    "
   ]
  },
  {
   "cell_type": "code",
   "execution_count": 19,
   "metadata": {
    "collapsed": false
   },
   "outputs": [],
   "source": [
    "outputX = embedding([X])[0]\n"
   ]
  },
  {
   "cell_type": "code",
   "execution_count": 20,
   "metadata": {
    "collapsed": false
   },
   "outputs": [],
   "source": [
    "import csv\n",
    "with open('10' + '.csv', 'wb') as f:\n",
    "    writer = csv.writer(f)\n",
    "    writer.writerows(outputX)\n"
   ]
  }
 ],
 "metadata": {
  "anaconda-cloud": {},
  "kernelspec": {
   "display_name": "Python [conda root]",
   "language": "python",
   "name": "conda-root-py"
  },
  "language_info": {
   "codemirror_mode": {
    "name": "ipython",
    "version": 2
   },
   "file_extension": ".py",
   "mimetype": "text/x-python",
   "name": "python",
   "nbconvert_exporter": "python",
   "pygments_lexer": "ipython2",
   "version": "2.7.12"
  }
 },
 "nbformat": 4,
 "nbformat_minor": 1
}
