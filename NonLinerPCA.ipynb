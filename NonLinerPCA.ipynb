{
 "cells": [
  {
   "cell_type": "code",
   "execution_count": 1,
   "metadata": {
    "collapsed": false
   },
   "outputs": [
    {
     "name": "stderr",
     "output_type": "stream",
     "text": [
      "Using TensorFlow backend.\n"
     ]
    }
   ],
   "source": [
    "import tensorflow as tf\n",
    "import keras.backend as K\n",
    "from sklearn.preprocessing import StandardScaler, MinMaxScaler\n",
    "from Project.utilities import *\n",
    "from Project.dataStructures import *\n",
    "from keras.models import Sequential\n",
    "from keras.layers import PReLU, Dense, Activation,BatchNormalization,Dropout\n",
    "import numpy as np"
   ]
  },
  {
   "cell_type": "code",
   "execution_count": 2,
   "metadata": {
    "collapsed": false
   },
   "outputs": [],
   "source": [
    "K.set_learning_phase(0)\n",
    "rdm = np.random.RandomState()\n",
    "rdm.seed(42)\n"
   ]
  },
  {
   "cell_type": "code",
   "execution_count": 3,
   "metadata": {
    "collapsed": false
   },
   "outputs": [],
   "source": [
    "import pandas as pd\n",
    "data = pd.read_csv('/Users/laneskij/Documents/University/Tesi/Project/dataset.csv')\n",
    "dataset = np.array(data)\n",
    "rdm.shuffle(dataset)\n"
   ]
  },
  {
   "cell_type": "code",
   "execution_count": 8,
   "metadata": {
    "collapsed": false
   },
   "outputs": [],
   "source": [
    "X =dataset[:,:-1].astype(np.float32)\n",
    "Y = dataset[:,-1]\n",
    "label_dic = {target:value for value, target in enumerate(sorted(set(Y.tolist())))}\n",
    "Y = [label_dic[y] for y in Y]"
   ]
  },
  {
   "cell_type": "code",
   "execution_count": 3,
   "metadata": {
    "collapsed": false
   },
   "outputs": [],
   "source": [
    "datasetList, attributes, coloumns = read_file('/dataset.csv')\n",
    "targetsDic, targets = get_classes(coloumns['class'])\n",
    "dataset = string_to_float(switch_label(datasetList, targets))\n",
    "rdm.shuffle(dataset)\n",
    "labels = []\n",
    "for item in dataset:\n",
    "    labels.append(item[-1])  \n",
    "stringLabels = [targets[item-1] for item in labels]\n"
   ]
  },
  {
   "cell_type": "code",
   "execution_count": 4,
   "metadata": {
    "collapsed": true
   },
   "outputs": [],
   "source": [
    "X = np.array(dataset)[:,:len(dataset[0])-1].astype(np.float64)\n",
    "Y = np.array(dataset)[:,len(dataset[0])-1].astype(np.int64)\n",
    "Y = np.array([item-1 for item in Y])\n",
    "xTrain, xTest = X[:int(999*0.8)], X[int(999*0.8):]\n",
    "yTrain, yTest = Y[:int(999*0.8)], Y[int(999*0.8):]"
   ]
  },
  {
   "cell_type": "code",
   "execution_count": 5,
   "metadata": {
    "collapsed": false
   },
   "outputs": [],
   "source": [
    "scaler = MinMaxScaler(feature_range=(0,1))\n",
    "X = scaler.fit_transform(X)\n",
    "xTrain = scaler.fit_transform(xTrain)\n",
    "xTest = scaler.transform(xTest)\n",
    "\n"
   ]
  },
  {
   "cell_type": "code",
   "execution_count": 6,
   "metadata": {
    "collapsed": false,
    "scrolled": true
   },
   "outputs": [],
   "source": [
    "xTrain, xTest = X[:int(1000*0.8)], X[int(1000*0.8):]\n",
    "yTrain, yTest = Y[:int(1000*0.8)], Y[int(1000*0.8):]\n"
   ]
  },
  {
   "cell_type": "code",
   "execution_count": 7,
   "metadata": {
    "collapsed": false
   },
   "outputs": [],
   "source": [
    "layers = [\n",
    "    Dense(50, input_dim=len(xTrain[0]),init='he_normal'), PReLU(), Dropout(0.2),BatchNormalization(), \n",
    "    Dense(10, init='he_uniform'), Activation('softmax')\n",
    "]"
   ]
  },
  {
   "cell_type": "code",
   "execution_count": 8,
   "metadata": {
    "collapsed": false
   },
   "outputs": [],
   "source": [
    "model = Sequential()\n",
    "for layer in layers:\n",
    "    model.add(layer)\n"
   ]
  },
  {
   "cell_type": "code",
   "execution_count": 9,
   "metadata": {
    "collapsed": true
   },
   "outputs": [],
   "source": [
    "model.compile(loss='sparse_categorical_crossentropy', optimizer='adadelta')"
   ]
  },
  {
   "cell_type": "code",
   "execution_count": null,
   "metadata": {
    "collapsed": false
   },
   "outputs": [],
   "source": [
    "\n",
    "for e in range(100):\n",
    "    losses = []\n",
    "    for x_batch,y_batch in get_minibatches(xTrain,yTrain):\n",
    "        loss = model.train_on_batch(x_batch,y_batch)\n",
    "        losses.append(loss)\n",
    "    \n",
    "    train_acc = 0.\n",
    "    for x_batch,y_batch in get_minibatches(xTrain,yTrain):\n",
    "        train_acc += (np.argmax(model.predict(x_batch), axis=1) == y_batch[:,0]).sum()\n",
    "    test_acc = 0.\n",
    "    for x_batch,y_batch in get_minibatches(xTest,yTest):\n",
    "        test_acc += (np.argmax(model.predict(x_batch), axis=1) == y_batch[:,0]).sum()\n",
    "        \n",
    "    #print 'Loss: %.3f - Train Acc: %.3f - Test Acc: %.3f' % (np.mean(losses), 100.*train_acc/len(yTrain),100.*test_acc/len(yTest))"
   ]
  },
  {
   "cell_type": "code",
   "execution_count": 11,
   "metadata": {
    "collapsed": false
   },
   "outputs": [],
   "source": [
    "layers = [\n",
    "    Dense(50, input_dim=len(X[0]),init='he_normal'), PReLU(), Dropout(0.2), #BatchNormalization(), \n",
    "    Dense(20, init='he_normal'), PReLU(), Dropout(0.2),\n",
    "    Dense(50, init='he_normal'), PReLU(),\n",
    "    Dense(len(X[0]), 'he_uniform'),Activation('sigmoid')\n",
    "]"
   ]
  },
  {
   "cell_type": "code",
   "execution_count": 12,
   "metadata": {
    "collapsed": false
   },
   "outputs": [],
   "source": [
    "ae = Sequential()\n",
    "for layer in layers:\n",
    "    ae.add(layer)"
   ]
  },
  {
   "cell_type": "code",
   "execution_count": 13,
   "metadata": {
    "collapsed": false
   },
   "outputs": [],
   "source": [
    "ae.compile(loss='binary_crossentropy', optimizer='adadelta')"
   ]
  },
  {
   "cell_type": "code",
   "execution_count": 15,
   "metadata": {
    "collapsed": false
   },
   "outputs": [],
   "source": [
    "for e in range(100):\n",
    "    losses = []\n",
    "    for xBatch,yBatch in get_minibatches(X,Y):\n",
    "        loss = ae.train_on_batch(xBatch,xBatch)\n",
    "        losses.append(loss)\n",
    "    #print loss"
   ]
  },
  {
   "cell_type": "code",
   "execution_count": 16,
   "metadata": {
    "collapsed": false
   },
   "outputs": [
    {
     "name": "stdout",
     "output_type": "stream",
     "text": [
      "0.535961\n"
     ]
    }
   ],
   "source": [
    "print loss"
   ]
  },
  {
   "cell_type": "code",
   "execution_count": 17,
   "metadata": {
    "collapsed": false
   },
   "outputs": [],
   "source": [
    "embedding = K.function([ae.layers[0].input, 0], [ae.layers[3].output])"
   ]
  },
  {
   "cell_type": "code",
   "execution_count": 18,
   "metadata": {
    "collapsed": false
   },
   "outputs": [],
   "source": [
    "newX = []\n",
    "stringLabels = [targets[item-1] for item in labels]\n",
    "outputX = embedding([X])[0]\n",
    "for item in outputX:\n",
    "    newX.append(item)\n",
    "dataset = np.c_[np.array(newX), np.array(stringLabels)].tolist() \n",
    "\n",
    "    "
   ]
  },
  {
   "cell_type": "code",
   "execution_count": 19,
   "metadata": {
    "collapsed": false
   },
   "outputs": [],
   "source": [
    "outputX = embedding([X])[0]\n"
   ]
  },
  {
   "cell_type": "code",
   "execution_count": 20,
   "metadata": {
    "collapsed": false
   },
   "outputs": [],
   "source": [
    "import csv\n",
    "with open('10' + '.csv', 'wb') as f:\n",
    "    writer = csv.writer(f)\n",
    "    writer.writerows(outputX)\n"
   ]
  }
 ],
 "metadata": {
  "anaconda-cloud": {},
  "kernelspec": {
   "display_name": "Python [conda root]",
   "language": "python",
   "name": "conda-root-py"
  },
  "language_info": {
   "codemirror_mode": {
    "name": "ipython",
    "version": 2
   },
   "file_extension": ".py",
   "mimetype": "text/x-python",
   "name": "python",
   "nbconvert_exporter": "python",
   "pygments_lexer": "ipython2",
   "version": "2.7.12"
  }
 },
 "nbformat": 4,
 "nbformat_minor": 1
}
