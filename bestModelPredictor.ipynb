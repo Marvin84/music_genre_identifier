{
 "cells": [
  {
   "cell_type": "code",
   "execution_count": 1,
   "metadata": {
    "collapsed": false
   },
   "outputs": [
    {
     "name": "stdout",
     "output_type": "stream",
     "text": [
      "WARN: OMP_NUM_THREADS=None =>\n",
      "... If you are using openblas if you are using openblas set OMP_NUM_THREADS=1 or risk subprocess calls hanging indefinitely\n"
     ]
    },
    {
     "name": "stderr",
     "output_type": "stream",
     "text": [
      "/Library/Python/2.7/site-packages/sklearn/cross_validation.py:44: DeprecationWarning: This module was deprecated in version 0.18 in favor of the model_selection module into which all the refactored classes and functions are moved. Also note that the interface of the new CV iterators are different from that of this module. This module will be removed in 0.20.\n",
      "  \"This module will be removed in 0.20.\", DeprecationWarning)\n",
      "/usr/local/lib/python2.7/site-packages/matplotlib/font_manager.py:273: UserWarning: Matplotlib is building the font cache using fc-list. This may take a moment.\n",
      "  warnings.warn('Matplotlib is building the font cache using fc-list. This may take a moment.')\n",
      "/Library/Python/2.7/site-packages/sklearn/grid_search.py:43: DeprecationWarning: This module was deprecated in version 0.18 in favor of the model_selection module into which all the refactored classes and functions are moved. This module will be removed in 0.20.\n",
      "  DeprecationWarning)\n"
     ]
    }
   ],
   "source": [
    "import hpsklearn\n",
    "import hyperopt.tpe\n",
    "import hpsklearn\n",
    "import hpsklearn.demo_support\n",
    "import time\n",
    "import numpy as np\n",
    "from sklearn.preprocessing import StandardScaler, MinMaxScaler\n",
    "from Project.dataStructures import *\n",
    "from Project.manageDataset import *\n",
    "from Project.dataStructures import *\n",
    "from Project.dataStructures import get_data_target_lists\n",
    "from Project.launchAlgorithms import *\n",
    "from Project.utilities import *"
   ]
  },
  {
   "cell_type": "code",
   "execution_count": 2,
   "metadata": {
    "collapsed": true
   },
   "outputs": [],
   "source": [
    "rdm = np.random.RandomState()\n",
    "rdm.seed(42)"
   ]
  },
  {
   "cell_type": "code",
   "execution_count": 3,
   "metadata": {
    "collapsed": false
   },
   "outputs": [],
   "source": [
    "datasetList, attributes, coloumns = read_file('/dataset.csv')\n",
    "targetsDic, targets = get_classes(coloumns['class'])\n",
    "dataset = string_to_float(switch_label(datasetList, targets))\n",
    "rdm.shuffle(dataset)\n",
    "labels = []\n",
    "for item in dataset:\n",
    "    labels.append(item[-1])  \n",
    "stringLabels = [targets[item-1] for item in labels]"
   ]
  },
  {
   "cell_type": "code",
   "execution_count": 4,
   "metadata": {
    "collapsed": true
   },
   "outputs": [],
   "source": [
    "X = np.array(dataset)[:,:len(dataset[0])-1].astype(np.float32)\n",
    "Y = np.array(dataset)[:,len(dataset[0])-1].astype(np.int32)\n",
    "Y = np.array([item-1 for item in Y])\n",
    "xTrain, xTest = X[:int(1000*0.8)], X[int(1000*0.8):]\n",
    "yTrain, yTest = Y[:int(1000*0.8)], Y[int(1000*0.8):]\n"
   ]
  },
  {
   "cell_type": "code",
   "execution_count": 5,
   "metadata": {
    "collapsed": false
   },
   "outputs": [],
   "source": [
    "estimator = hpsklearn.HyperoptEstimator(\n",
    "    preprocessing=hpsklearn.components.any_preprocessing('pp'),\n",
    "    classifier=hpsklearn.components.any_classifier('clf'),\n",
    "    algo=hyperopt.tpe.suggest,\n",
    "    trial_timeout=15.0, # seconds\n",
    "    max_evals=15,\n",
    "    )"
   ]
  },
  {
   "cell_type": "code",
   "execution_count": 6,
   "metadata": {
    "collapsed": false
   },
   "outputs": [],
   "source": [
    "# Demo version of estimator.fit()\n",
    "fit_iterator = estimator.fit_iter(xTrain,yTrain)\n",
    "fit_iterator.next()\n",
    "plot_helper = hpsklearn.demo_support.PlotHelper(estimator,\n",
    "                                                mintodate_ylim=(-.01, .05))\n",
    "while len(estimator.trials.trials) < estimator.max_evals:\n",
    "    fit_iterator.send(1) # -- try one more model\n",
    "    plot_helper.post_iter()\n",
    "plot_helper.post_loop()\n",
    "\n",
    "# -- Model selection was done on a subset of the training data.\n",
    "# -- Now that we've picked a model, train on all training data.\n",
    "estimator.retrain_best_model_on_full_data(xTrain, yTrain)"
   ]
  },
  {
   "cell_type": "code",
   "execution_count": 7,
   "metadata": {
    "collapsed": false
   },
   "outputs": [
    {
     "name": "stdout",
     "output_type": "stream",
     "text": [
      "Best preprocessing pipeline:\n",
      "\n",
      "Best classifier:\n",
      "{'learner': ExtraTreesClassifier(bootstrap=False, class_weight=None, criterion='gini',\n",
      "           max_depth=None, max_features='sqrt', max_leaf_nodes=None,\n",
      "           min_impurity_split=1e-07, min_samples_leaf=1,\n",
      "           min_samples_split=2, min_weight_fraction_leaf=0.0,\n",
      "           n_estimators=63, n_jobs=1, oob_score=False, random_state=1,\n",
      "           verbose=False, warm_start=False), 'preprocs': (), 'ex_preprocs': ()}\n",
      "\n",
      "Prediction accuracy in generalization is 63.3%\n"
     ]
    }
   ],
   "source": [
    "print 'Best preprocessing pipeline:'\n",
    "for pp in estimator._best_preprocs:\n",
    "    print pp\n",
    "print\n",
    "print 'Best classifier:\\n', estimator.best_model()\n",
    "test_predictions = estimator.predict(xTest)\n",
    "acc_in_percent = 100 * np.mean(test_predictions == yTest)\n",
    "print\n",
    "print 'Prediction accuracy in generalization is %.1f%%' % acc_in_percent"
   ]
  },
  {
   "cell_type": "code",
   "execution_count": null,
   "metadata": {
    "collapsed": true
   },
   "outputs": [],
   "source": []
  }
 ],
 "metadata": {
  "kernelspec": {
   "display_name": "Python 2",
   "language": "python",
   "name": "python2"
  },
  "language_info": {
   "codemirror_mode": {
    "name": "ipython",
    "version": 2
   },
   "file_extension": ".py",
   "mimetype": "text/x-python",
   "name": "python",
   "nbconvert_exporter": "python",
   "pygments_lexer": "ipython2",
   "version": "2.7.11"
  }
 },
 "nbformat": 4,
 "nbformat_minor": 1
}
